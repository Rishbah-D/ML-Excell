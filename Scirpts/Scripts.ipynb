{
 "cells": [
  {
   "cell_type": "code",
   "execution_count": 1,
   "metadata": {},
   "outputs": [
    {
     "name": "stdout",
     "output_type": "stream",
     "text": [
      "Writing Tarball_download.py\n"
     ]
    }
   ],
   "source": [
    "%%writefile Tarball_download.py \n",
    "\n",
    "import requests \n",
    "import tarfile\n",
    "import os \n",
    "import requests\n",
    "import tarfile\n",
    "import os\n",
    "\n",
    "def download_extract_tarball(url, extract_path='./'):\n",
    "    \"\"\"\n",
    "    Downloads a tarball file from a URL, extracts it, and returns the path to the extracted files.\n",
    "\n",
    "    Parameters:\n",
    "    url (str): The URL of the tarball file to be downloaded.\n",
    "    extract_path (str): The directory where the tarball will be extracted. Defaults to the current directory.\n",
    "\n",
    "    Returns:\n",
    "    str: The path to the extracted files.\n",
    "    \"\"\"\n",
    "    # Get the filename from the URL\n",
    "    filename = url.split('/')[-1]\n",
    "\n",
    "    # Download the file\n",
    "    print(f\"Downloading {filename}...\")\n",
    "    response = requests.get(url, stream=True)\n",
    "    \n",
    "    # Save the downloaded tarball file\n",
    "    with open(filename, 'wb') as file:\n",
    "        for chunk in response.iter_content(chunk_size=1024):\n",
    "            file.write(chunk)\n",
    "    print(f\"{filename} downloaded successfully.\")\n",
    "\n",
    "    # Extract the tarball file\n",
    "    if tarfile.is_tarfile(filename):\n",
    "        print(f\"Extracting {filename}...\")\n",
    "        with tarfile.open(filename, 'r:*') as tar:\n",
    "            tar.extractall(path=extract_path)\n",
    "        print(f\"Extracted to {extract_path}.\")\n",
    "    else:\n",
    "        print(f\"{filename} is not a valid tarball file.\")\n",
    "        return None\n",
    "\n",
    "    # Remove the tarball file after extraction\n",
    "    os.remove(filename)\n",
    "    print(f\"{filename} removed after extraction.\")\n",
    "\n",
    "    return extract_path\n",
    "\n",
    "# Example usage:\n",
    "# url = 'https://example.com/sample.tar.gz'\n",
    "# extracted_path = download_extract_tarball(url)\n",
    "# print(f\"Files are extracted to: {extracted_path}\")\n"
   ]
  },
  {
   "cell_type": "code",
   "execution_count": null,
   "metadata": {},
   "outputs": [],
   "source": []
  }
 ],
 "metadata": {
  "kernelspec": {
   "display_name": "Python 3",
   "language": "python",
   "name": "python3"
  },
  "language_info": {
   "codemirror_mode": {
    "name": "ipython",
    "version": 3
   },
   "file_extension": ".py",
   "mimetype": "text/x-python",
   "name": "python",
   "nbconvert_exporter": "python",
   "pygments_lexer": "ipython3",
   "version": "3.12.3"
  }
 },
 "nbformat": 4,
 "nbformat_minor": 2
}
